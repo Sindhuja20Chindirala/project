{
 "cells": [
  {
   "cell_type": "code",
   "execution_count": 2,
   "id": "df186bc6",
   "metadata": {},
   "outputs": [
    {
     "name": "stderr",
     "output_type": "stream",
     "text": [
      "C:\\Users\\LENOVO\\anaconda3\\lib\\site-packages\\numpy\\_distributor_init.py:30: UserWarning: loaded more than 1 DLL from .libs:\n",
      "C:\\Users\\LENOVO\\anaconda3\\lib\\site-packages\\numpy\\.libs\\libopenblas.FB5AE2TYXYH2IJRDKGDGQ3XBKLKTF43H.gfortran-win_amd64.dll\n",
      "C:\\Users\\LENOVO\\anaconda3\\lib\\site-packages\\numpy\\.libs\\libopenblas64__v0.3.21-gcc_10_3_0.dll\n",
      "  warnings.warn(\"loaded more than 1 DLL from .libs:\"\n"
     ]
    }
   ],
   "source": [
    "import tensorflow as tf\n",
    "import os"
   ]
  },
  {
   "cell_type": "code",
   "execution_count": 3,
   "id": "0bc87100",
   "metadata": {},
   "outputs": [],
   "source": [
    "#import zipfile\n",
    "\n",
    "# Specify the path to the ZIP file\n",
    "#zip_file_path = 'cat_dog_dataset.zip'\n",
    "\n",
    "# Extract the ZIP file to the destination folder\n",
    "#with zipfile.ZipFile(zip_file_path, 'r') as zip_ref:\n",
    "    #zip_ref.extractall('cat_dog_dataset')"
   ]
  },
  {
   "cell_type": "code",
   "execution_count": 4,
   "id": "1ae801a8",
   "metadata": {},
   "outputs": [],
   "source": [
    "from keras.preprocessing.image import ImageDataGenerator"
   ]
  },
  {
   "cell_type": "code",
   "execution_count": 5,
   "id": "d3814b7a",
   "metadata": {},
   "outputs": [],
   "source": [
    "train_datagen = ImageDataGenerator(\n",
    "        rescale=1./255,\n",
    "        shear_range=0.2,\n",
    "        zoom_range=0.2,\n",
    "        horizontal_flip=True)"
   ]
  },
  {
   "cell_type": "code",
   "execution_count": 6,
   "id": "d46e7fb9",
   "metadata": {},
   "outputs": [
    {
     "name": "stdout",
     "output_type": "stream",
     "text": [
      "Found 557 images belonging to 2 classes.\n"
     ]
    }
   ],
   "source": [
    "train_generator = train_datagen.flow_from_directory(\n",
    "       'cat_dog_dataset/cat_dog_dataset/trainset',\n",
    "        target_size=(64,64),\n",
    "        batch_size=32,\n",
    "        class_mode='binary')"
   ]
  },
  {
   "cell_type": "code",
   "execution_count": 7,
   "id": "66d5bfca",
   "metadata": {},
   "outputs": [
    {
     "name": "stdout",
     "output_type": "stream",
     "text": [
      "Found 140 images belonging to 2 classes.\n"
     ]
    }
   ],
   "source": [
    "test_datagen = ImageDataGenerator(rescale=1./255)\n",
    "validation_generator = test_datagen.flow_from_directory(\n",
    "       'cat_dog_dataset/cat_dog_dataset/testset',\n",
    "        target_size=(64,64),\n",
    "        batch_size=32,\n",
    "        class_mode='binary')"
   ]
  },
  {
   "cell_type": "code",
   "execution_count": 8,
   "id": "7ba573a6",
   "metadata": {},
   "outputs": [],
   "source": [
    "cnn=tf.keras.models.Sequential()"
   ]
  },
  {
   "cell_type": "code",
   "execution_count": 9,
   "id": "4211e725",
   "metadata": {},
   "outputs": [],
   "source": [
    "cnn.add(tf.keras.layers.Conv2D(filters=32,kernel_size=3,activation = 'relu',input_shape=[64,64,3]))"
   ]
  },
  {
   "cell_type": "code",
   "execution_count": 10,
   "id": "70acaeed",
   "metadata": {},
   "outputs": [],
   "source": [
    "cnn.add(tf.keras.layers.MaxPool2D(pool_size=2,strides=2))"
   ]
  },
  {
   "cell_type": "code",
   "execution_count": 11,
   "id": "0a15dac5",
   "metadata": {},
   "outputs": [],
   "source": [
    "cnn.add(tf.keras.layers.Conv2D(filters=32,kernel_size=3,activation = 'relu'))"
   ]
  },
  {
   "cell_type": "code",
   "execution_count": 12,
   "id": "87791957",
   "metadata": {},
   "outputs": [],
   "source": [
    "cnn.add(tf.keras.layers.MaxPool2D(pool_size=2,strides=2))"
   ]
  },
  {
   "cell_type": "code",
   "execution_count": 13,
   "id": "3c963406",
   "metadata": {},
   "outputs": [],
   "source": [
    "#flatten\n",
    "cnn.add(tf.keras.layers.Flatten())"
   ]
  },
  {
   "cell_type": "code",
   "execution_count": 14,
   "id": "c1a0877b",
   "metadata": {},
   "outputs": [],
   "source": [
    "#full connection\n",
    "cnn.add(tf.keras.layers.Dense(units=128,activation = 'relu'))"
   ]
  },
  {
   "cell_type": "code",
   "execution_count": 15,
   "id": "63b937eb",
   "metadata": {},
   "outputs": [],
   "source": [
    "#output layer\n",
    "cnn.add(tf.keras.layers.Dense(units=1,activation = 'sigmoid'))"
   ]
  },
  {
   "cell_type": "code",
   "execution_count": 16,
   "id": "70c85a6e",
   "metadata": {},
   "outputs": [],
   "source": [
    "#compile model\n",
    "cnn.compile(optimizer = 'adam',loss ='binary_crossentropy',metrics=['accuracy'])"
   ]
  },
  {
   "cell_type": "code",
   "execution_count": 35,
   "id": "766e5773",
   "metadata": {
    "scrolled": true
   },
   "outputs": [
    {
     "name": "stdout",
     "output_type": "stream",
     "text": [
      "Epoch 1/20\n",
      "18/18 [==============================] - 22s 1s/step - loss: 0.6325 - accuracy: 0.6517 - val_loss: 0.6991 - val_accuracy: 0.5857\n",
      "Epoch 2/20\n",
      "18/18 [==============================] - 22s 1s/step - loss: 0.6131 - accuracy: 0.6535 - val_loss: 0.8243 - val_accuracy: 0.6000\n",
      "Epoch 3/20\n",
      "18/18 [==============================] - 22s 1s/step - loss: 0.5884 - accuracy: 0.7163 - val_loss: 0.6863 - val_accuracy: 0.6357\n",
      "Epoch 4/20\n",
      "18/18 [==============================] - 22s 1s/step - loss: 0.5749 - accuracy: 0.6876 - val_loss: 0.6794 - val_accuracy: 0.6143\n",
      "Epoch 5/20\n",
      "18/18 [==============================] - 31s 2s/step - loss: 0.5558 - accuracy: 0.7235 - val_loss: 0.7101 - val_accuracy: 0.6286\n",
      "Epoch 6/20\n",
      "18/18 [==============================] - 26s 1s/step - loss: 0.5419 - accuracy: 0.7235 - val_loss: 0.6982 - val_accuracy: 0.6000\n",
      "Epoch 7/20\n",
      "18/18 [==============================] - 24s 1s/step - loss: 0.4970 - accuracy: 0.7738 - val_loss: 0.7401 - val_accuracy: 0.5571\n",
      "Epoch 8/20\n",
      "18/18 [==============================] - 23s 1s/step - loss: 0.5447 - accuracy: 0.7271 - val_loss: 0.7817 - val_accuracy: 0.5571\n",
      "Epoch 9/20\n",
      "18/18 [==============================] - 25s 1s/step - loss: 0.5391 - accuracy: 0.7163 - val_loss: 0.7588 - val_accuracy: 0.6429\n",
      "Epoch 10/20\n",
      "18/18 [==============================] - 29s 2s/step - loss: 0.4698 - accuracy: 0.7702 - val_loss: 0.6844 - val_accuracy: 0.6786\n",
      "Epoch 11/20\n",
      "18/18 [==============================] - 32s 2s/step - loss: 0.4714 - accuracy: 0.7630 - val_loss: 0.6750 - val_accuracy: 0.6357\n",
      "Epoch 12/20\n",
      "18/18 [==============================] - 27s 2s/step - loss: 0.4863 - accuracy: 0.7684 - val_loss: 0.7140 - val_accuracy: 0.6286\n",
      "Epoch 13/20\n",
      "18/18 [==============================] - 37s 2s/step - loss: 0.4224 - accuracy: 0.8061 - val_loss: 0.7155 - val_accuracy: 0.6571\n",
      "Epoch 14/20\n",
      "18/18 [==============================] - 36s 2s/step - loss: 0.3993 - accuracy: 0.8259 - val_loss: 0.7060 - val_accuracy: 0.6214\n",
      "Epoch 15/20\n",
      "18/18 [==============================] - 36s 2s/step - loss: 0.4191 - accuracy: 0.8133 - val_loss: 0.6900 - val_accuracy: 0.5929\n",
      "Epoch 16/20\n",
      "18/18 [==============================] - 34s 2s/step - loss: 0.4033 - accuracy: 0.8187 - val_loss: 0.8466 - val_accuracy: 0.6429\n",
      "Epoch 17/20\n",
      "18/18 [==============================] - 34s 2s/step - loss: 0.4294 - accuracy: 0.7989 - val_loss: 0.7694 - val_accuracy: 0.6214\n",
      "Epoch 18/20\n",
      "18/18 [==============================] - 36s 2s/step - loss: 0.4097 - accuracy: 0.8187 - val_loss: 0.7041 - val_accuracy: 0.6214\n",
      "Epoch 19/20\n",
      "18/18 [==============================] - 34s 2s/step - loss: 0.4040 - accuracy: 0.8133 - val_loss: 0.7384 - val_accuracy: 0.6357\n",
      "Epoch 20/20\n",
      "18/18 [==============================] - 36s 2s/step - loss: 0.3538 - accuracy: 0.8384 - val_loss: 0.8462 - val_accuracy: 0.6571\n"
     ]
    }
   ],
   "source": [
    "#train the model\n",
    "history=cnn.fit(x=train_generator,validation_data =validation_generator,epochs=20)"
   ]
  },
  {
   "cell_type": "code",
   "execution_count": 24,
   "id": "efa11744",
   "metadata": {},
   "outputs": [],
   "source": [
    "from keras.preprocessing.image import ImageDataGenerator"
   ]
  },
  {
   "cell_type": "code",
   "execution_count": 31,
   "id": "3a6350aa",
   "metadata": {},
   "outputs": [
    {
     "name": "stdout",
     "output_type": "stream",
     "text": [
      "1/1 [==============================] - 0s 50ms/step\n"
     ]
    }
   ],
   "source": [
    "from PIL import Image\n",
    "import numpy as np\n",
    "from keras.preprocessing import image\n",
    "\n",
    "# Load the image using PIL\n",
    "test_image = Image.open(\"cat_dog_dataset/cat_dog_dataset/singleprediction/predict2.jpg\")\n",
    "test_image = test_image.resize((64, 64))  # Resize the image to the desired target size\n",
    "test_image = np.array(test_image)  # Convert PIL image to NumPy array\n",
    "test_image = np.expand_dims(test_image, axis=0)  # Add an extra dimension as the batch size\n",
    "result = cnn.predict(test_image)\n",
    "train_generator.class_indices\n",
    "if result[0][0] ==1:\n",
    "    prediction ='dog'\n",
    "else:\n",
    "    prediction ='yes'\n"
   ]
  },
  {
   "cell_type": "code",
   "execution_count": 32,
   "id": "625fbe40",
   "metadata": {},
   "outputs": [
    {
     "data": {
      "text/plain": [
       "'dog'"
      ]
     },
     "execution_count": 32,
     "metadata": {},
     "output_type": "execute_result"
    }
   ],
   "source": [
    "prediction"
   ]
  },
  {
   "cell_type": "code",
   "execution_count": 34,
   "id": "cffa1c8c",
   "metadata": {},
   "outputs": [
    {
     "name": "stdout",
     "output_type": "stream",
     "text": [
      "dict_keys(['loss', 'accuracy', 'val_loss', 'val_accuracy'])\n"
     ]
    }
   ],
   "source": [
    "import matplotlib.pyplot as plt\n",
    "print(history.history.keys())"
   ]
  },
  {
   "cell_type": "code",
   "execution_count": 36,
   "id": "cefac0d3",
   "metadata": {},
   "outputs": [
    {
     "data": {
      "text/plain": [
       "[<matplotlib.lines.Line2D at 0x1fd26fa6ac0>]"
      ]
     },
     "execution_count": 36,
     "metadata": {},
     "output_type": "execute_result"
    },
    {
     "data": {
      "image/png": "[encoded data removed]",
      "text/plain": [
       "<Figure size 640x480 with 1 Axes>"
      ]
     },
     "metadata": {},
     "output_type": "display_data"
    }
   ],
   "source": [
    "plt.plot(history.history['accuracy'])\n",
    "plt.plot(history.history['val_loss'])\n",
    "plt.plot(history.history['val_accuracy'])"
   ]
  },
  {
   "cell_type": "code",
   "execution_count": null,
   "id": "0a818f2a",
   "metadata": {},
   "outputs": [],
   "source": []
  }
 ],
 "metadata": {
  "kernelspec": {
   "display_name": "Python 3 (ipykernel)",
   "language": "python",
   "name": "python3"
  },
  "language_info": {
   "codemirror_mode": {
    "name": "ipython",
    "version": 3
   },
   "file_extension": ".py",
   "mimetype": "text/x-python",
   "name": "python",
   "nbconvert_exporter": "python",
   "pygments_lexer": "ipython3",
   "version": "3.9.13"
  }
 },
 "nbformat": 4,
 "nbformat_minor": 5
}
